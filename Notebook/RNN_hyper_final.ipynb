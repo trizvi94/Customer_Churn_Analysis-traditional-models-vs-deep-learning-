{
 "cells": [
  {
   "cell_type": "markdown",
   "id": "b90e8564-eeb9-486f-a153-c8f0d1e2f71f",
   "metadata": {},
   "source": [
    "## 1.1 Import Data and Required Packages"
   ]
  },
  {
   "cell_type": "code",
   "execution_count": 2,
   "id": "3fa8020b-ec76-4a73-adfd-93289c701613",
   "metadata": {},
   "outputs": [],
   "source": [
    "import numpy as np\n",
    "import pandas as pd\n",
    "import tensorflow as tf\n",
    "import keras_tuner as kt\n",
    "from sklearn.model_selection import train_test_split\n",
    "from sklearn.preprocessing import StandardScaler, OneHotEncoder\n",
    "from sklearn.compose import ColumnTransformer\n",
    "from sklearn.metrics import recall_score, precision_score, f1_score, fbeta_score, accuracy_score, roc_auc_score\n",
    "from tensorflow.keras.models import Sequential\n",
    "from tensorflow.keras.layers import LSTM, Dense, Dropout, BatchNormalization, Bidirectional\n",
    "from tensorflow.keras.optimizers import Adam\n",
    "from tensorflow.keras.utils import to_categorical\n"
   ]
  },
  {
   "cell_type": "markdown",
   "id": "1a551221-bcaa-46f7-85a4-cae32933bca3",
   "metadata": {},
   "source": [
    "## 1.2 Set Random Seeds for Reproducibility"
   ]
  },
  {
   "cell_type": "code",
   "execution_count": 47,
   "id": "3e693cfb-e10e-41ea-abf9-6782b9ca6bc8",
   "metadata": {},
   "outputs": [],
   "source": [
    "np.random.seed(42)\n",
    "tf.random.set_seed(42)"
   ]
  },
  {
   "cell_type": "markdown",
   "id": "dd0fdd80-b827-433e-a7e7-116d577d6035",
   "metadata": {},
   "source": [
    "## 2.1 Import the CSV Data as Pandas DataFrame"
   ]
  },
  {
   "cell_type": "code",
   "execution_count": 3,
   "id": "62c48cec-aa87-4575-b74c-81901f12e106",
   "metadata": {},
   "outputs": [],
   "source": [
    "customer_df = pd.read_csv('Data/Churn_Modelling.csv')"
   ]
  },
  {
   "cell_type": "code",
   "execution_count": 4,
   "id": "71cff4ae-a625-43c0-abab-77a07c4a930e",
   "metadata": {},
   "outputs": [
    {
     "data": {
      "text/html": [
       "<div>\n",
       "<style scoped>\n",
       "    .dataframe tbody tr th:only-of-type {\n",
       "        vertical-align: middle;\n",
       "    }\n",
       "\n",
       "    .dataframe tbody tr th {\n",
       "        vertical-align: top;\n",
       "    }\n",
       "\n",
       "    .dataframe thead th {\n",
       "        text-align: right;\n",
       "    }\n",
       "</style>\n",
       "<table border=\"1\" class=\"dataframe\">\n",
       "  <thead>\n",
       "    <tr style=\"text-align: right;\">\n",
       "      <th></th>\n",
       "      <th>RowNumber</th>\n",
       "      <th>CustomerId</th>\n",
       "      <th>Surname</th>\n",
       "      <th>CreditScore</th>\n",
       "      <th>Geography</th>\n",
       "      <th>Gender</th>\n",
       "      <th>Age</th>\n",
       "      <th>Tenure</th>\n",
       "      <th>Balance</th>\n",
       "      <th>NumOfProducts</th>\n",
       "      <th>HasCrCard</th>\n",
       "      <th>IsActiveMember</th>\n",
       "      <th>EstimatedSalary</th>\n",
       "      <th>Exited</th>\n",
       "    </tr>\n",
       "  </thead>\n",
       "  <tbody>\n",
       "    <tr>\n",
       "      <th>0</th>\n",
       "      <td>1</td>\n",
       "      <td>15634602</td>\n",
       "      <td>Hargrave</td>\n",
       "      <td>619</td>\n",
       "      <td>France</td>\n",
       "      <td>Female</td>\n",
       "      <td>42</td>\n",
       "      <td>2</td>\n",
       "      <td>0.00</td>\n",
       "      <td>1</td>\n",
       "      <td>1</td>\n",
       "      <td>1</td>\n",
       "      <td>101348.88</td>\n",
       "      <td>1</td>\n",
       "    </tr>\n",
       "    <tr>\n",
       "      <th>1</th>\n",
       "      <td>2</td>\n",
       "      <td>15647311</td>\n",
       "      <td>Hill</td>\n",
       "      <td>608</td>\n",
       "      <td>Spain</td>\n",
       "      <td>Female</td>\n",
       "      <td>41</td>\n",
       "      <td>1</td>\n",
       "      <td>83807.86</td>\n",
       "      <td>1</td>\n",
       "      <td>0</td>\n",
       "      <td>1</td>\n",
       "      <td>112542.58</td>\n",
       "      <td>0</td>\n",
       "    </tr>\n",
       "    <tr>\n",
       "      <th>2</th>\n",
       "      <td>3</td>\n",
       "      <td>15619304</td>\n",
       "      <td>Onio</td>\n",
       "      <td>502</td>\n",
       "      <td>France</td>\n",
       "      <td>Female</td>\n",
       "      <td>42</td>\n",
       "      <td>8</td>\n",
       "      <td>159660.80</td>\n",
       "      <td>3</td>\n",
       "      <td>1</td>\n",
       "      <td>0</td>\n",
       "      <td>113931.57</td>\n",
       "      <td>1</td>\n",
       "    </tr>\n",
       "    <tr>\n",
       "      <th>3</th>\n",
       "      <td>4</td>\n",
       "      <td>15701354</td>\n",
       "      <td>Boni</td>\n",
       "      <td>699</td>\n",
       "      <td>France</td>\n",
       "      <td>Female</td>\n",
       "      <td>39</td>\n",
       "      <td>1</td>\n",
       "      <td>0.00</td>\n",
       "      <td>2</td>\n",
       "      <td>0</td>\n",
       "      <td>0</td>\n",
       "      <td>93826.63</td>\n",
       "      <td>0</td>\n",
       "    </tr>\n",
       "    <tr>\n",
       "      <th>4</th>\n",
       "      <td>5</td>\n",
       "      <td>15737888</td>\n",
       "      <td>Mitchell</td>\n",
       "      <td>850</td>\n",
       "      <td>Spain</td>\n",
       "      <td>Female</td>\n",
       "      <td>43</td>\n",
       "      <td>2</td>\n",
       "      <td>125510.82</td>\n",
       "      <td>1</td>\n",
       "      <td>1</td>\n",
       "      <td>1</td>\n",
       "      <td>79084.10</td>\n",
       "      <td>0</td>\n",
       "    </tr>\n",
       "  </tbody>\n",
       "</table>\n",
       "</div>"
      ],
      "text/plain": [
       "   RowNumber  CustomerId   Surname  CreditScore Geography  Gender  Age  \\\n",
       "0          1    15634602  Hargrave          619    France  Female   42   \n",
       "1          2    15647311      Hill          608     Spain  Female   41   \n",
       "2          3    15619304      Onio          502    France  Female   42   \n",
       "3          4    15701354      Boni          699    France  Female   39   \n",
       "4          5    15737888  Mitchell          850     Spain  Female   43   \n",
       "\n",
       "   Tenure    Balance  NumOfProducts  HasCrCard  IsActiveMember  \\\n",
       "0       2       0.00              1          1               1   \n",
       "1       1   83807.86              1          0               1   \n",
       "2       8  159660.80              3          1               0   \n",
       "3       1       0.00              2          0               0   \n",
       "4       2  125510.82              1          1               1   \n",
       "\n",
       "   EstimatedSalary  Exited  \n",
       "0        101348.88       1  \n",
       "1        112542.58       0  \n",
       "2        113931.57       1  \n",
       "3         93826.63       0  \n",
       "4         79084.10       0  "
      ]
     },
     "execution_count": 4,
     "metadata": {},
     "output_type": "execute_result"
    }
   ],
   "source": [
    "customer_df.head()"
   ]
  },
  {
   "cell_type": "markdown",
   "id": "9ee03e30-a385-4ed9-985b-b542f7ac9270",
   "metadata": {},
   "source": [
    "## 2.2 Drop Unnecessary Columns"
   ]
  },
  {
   "cell_type": "code",
   "execution_count": 5,
   "id": "bae118a2-b804-41d5-bd9f-603b59a4ddcc",
   "metadata": {},
   "outputs": [],
   "source": [
    "customer_df = customer_df.drop(['RowNumber', 'CustomerId', 'Surname'], axis=1)\n"
   ]
  },
  {
   "cell_type": "markdown",
   "id": "83f49713-5166-42b0-941a-efabfcac2c27",
   "metadata": {},
   "source": [
    "## 3.1 Prepare X and Y Variables"
   ]
  },
  {
   "cell_type": "code",
   "execution_count": 6,
   "id": "27e5098f-9248-4a2c-af36-92aa11b349b6",
   "metadata": {},
   "outputs": [],
   "source": [
    "X = customer_df.drop('Exited', axis=1)\n",
    "y = customer_df['Exited']\n"
   ]
  },
  {
   "cell_type": "markdown",
   "id": "1017a541-9d35-4f7a-bb7d-05e1860a6caa",
   "metadata": {},
   "source": [
    "## 3.2 Define Feature Types"
   ]
  },
  {
   "cell_type": "code",
   "execution_count": 7,
   "id": "5d6fd379-fd24-4ea5-a9c1-1ca3d5b1495d",
   "metadata": {},
   "outputs": [],
   "source": [
    "categorical_features = ['Geography', 'Gender']\n",
    "numeric_features = ['CreditScore', 'Age', 'Tenure', 'Balance', 'NumOfProducts', 'HasCrCard', 'IsActiveMember', 'EstimatedSalary']\n"
   ]
  },
  {
   "cell_type": "markdown",
   "id": "7dd4deba-36cd-4434-b8b4-1bf2caf766cb",
   "metadata": {},
   "source": [
    "## 4.1 Create Column Transformer"
   ]
  },
  {
   "cell_type": "code",
   "execution_count": 8,
   "id": "3b4fed43-4459-462a-940c-57eff0476fe4",
   "metadata": {},
   "outputs": [],
   "source": [
    "preprocessor = ColumnTransformer(\n",
    "    transformers=[\n",
    "        ('num', StandardScaler(), numeric_features),\n",
    "        ('cat', OneHotEncoder(drop='first', sparse=False), categorical_features)\n",
    "    ]\n",
    ")\n"
   ]
  },
  {
   "cell_type": "markdown",
   "id": "f9f82bf5-5fad-4da5-a89a-aeee567925e2",
   "metadata": {},
   "source": [
    "## 5.1 Split Data into Training and Test Sets"
   ]
  },
  {
   "cell_type": "code",
   "execution_count": 9,
   "id": "d1d79c93-90ad-4aee-a1ad-79c8ab537079",
   "metadata": {},
   "outputs": [],
   "source": [
    "X_train, X_test, y_train, y_test = train_test_split(X, y, stratify=y, test_size=0.2, random_state=42)\n"
   ]
  },
  {
   "cell_type": "markdown",
   "id": "c4571e71-38f1-4878-92d6-fbf510f790e5",
   "metadata": {},
   "source": [
    "## 5.2 Preprocess Data"
   ]
  },
  {
   "cell_type": "code",
   "execution_count": 10,
   "id": "1ff0b688-0d10-432e-b659-fee5013c7197",
   "metadata": {},
   "outputs": [
    {
     "name": "stderr",
     "output_type": "stream",
     "text": [
      "d:\\Projects\\customer_churn\\venv\\lib\\site-packages\\sklearn\\preprocessing\\_encoders.py:975: FutureWarning: `sparse` was renamed to `sparse_output` in version 1.2 and will be removed in 1.4. `sparse_output` is ignored unless you leave `sparse` to its default value.\n",
      "  warnings.warn(\n"
     ]
    }
   ],
   "source": [
    "X_train = preprocessor.fit_transform(X_train)\n",
    "X_test = preprocessor.transform(X_test)\n"
   ]
  },
  {
   "cell_type": "markdown",
   "id": "9196a764-80dc-44dc-abd6-b57a6102e54b",
   "metadata": {},
   "source": [
    "## 6.1 Reshape Data for LSTM"
   ]
  },
  {
   "cell_type": "code",
   "execution_count": 11,
   "id": "a6f47c79-f25f-4d71-8512-915f068167aa",
   "metadata": {},
   "outputs": [],
   "source": [
    "X_train = np.expand_dims(X_train, axis=2).astype(np.float32)\n",
    "X_test = np.expand_dims(X_test, axis=2).astype(np.float32)\n",
    "y_train_categorical = to_categorical(y_train).astype(np.float32)\n",
    "y_test_categorical = to_categorical(y_test).astype(np.float32)\n"
   ]
  },
  {
   "cell_type": "markdown",
   "id": "a7d3be9a-641c-4419-853d-b3c5f87f9557",
   "metadata": {},
   "source": [
    "## 7.1 Define the Model Building Function (for Keras Tuner)"
   ]
  },
  {
   "cell_type": "code",
   "execution_count": 12,
   "id": "c003f7d4-86e8-4e86-bf7b-1bbd405d159b",
   "metadata": {},
   "outputs": [],
   "source": [
    "# def build_model(hp):\n",
    "#     model = Sequential()\n",
    "#     lstm_units = hp.Int('lstm_units', min_value=32, max_value=128, step=32)\n",
    "#     use_bidirectional = hp.Boolean('use_bidirectional')\n",
    "    \n",
    "#     if use_bidirectional:\n",
    "#         model.add(Bidirectional(LSTM(lstm_units, return_sequences=True, input_shape=(X_train.shape[1], 1))))\n",
    "#         model.add(Dropout(0.5))\n",
    "#         model.add(LSTM(lstm_units // 2))\n",
    "#     else:\n",
    "#         model.add(LSTM(lstm_units, input_shape=(X_train.shape[1], 1)))\n",
    "    \n",
    "#     model.add(Dropout(0.3))\n",
    "#     model.add(BatchNormalization())\n",
    "#     model.add(Dense(y_train_categorical.shape[1], activation='softmax'))\n",
    "    \n",
    "#     model.compile(optimizer=Adam(learning_rate=hp.Float('learning_rate', min_value=1e-4, max_value=1e-2, sampling='log')), \n",
    "#                   loss='categorical_crossentropy', \n",
    "#                   metrics=['accuracy'])\n",
    "#     return model\n",
    "def build_model(hp):\n",
    "    model = Sequential()\n",
    "    \n",
    "    # Set LSTM units, optionally use a predefined value\n",
    "    lstm_units = hp.Int('lstm_units', min_value=32, max_value=128, step=32)\n",
    "    use_bidirectional = hp.Boolean('use_bidirectional')\n",
    "\n",
    "    # Add Bidirectional LSTM layer\n",
    "    if use_bidirectional:\n",
    "        model.add(Bidirectional(LSTM(lstm_units, return_sequences=True, input_shape=(X_train.shape[1], 1))))\n",
    "        model.add(Dropout(0.5))  # Dropout after Bidirectional LSTM\n",
    "        model.add(Bidirectional(LSTM(lstm_units // 2)))  # Add Bidirectional or standard LSTM here based on need\n",
    "    else:\n",
    "        model.add(LSTM(lstm_units, return_sequences=False, input_shape=(X_train.shape[1], 1)))\n",
    "    \n",
    "    model.add(Dropout(0.3))  # Additional Dropout layer\n",
    "    model.add(BatchNormalization())  # BatchNormalization layer\n",
    "    model.add(Dense(y_train_categorical.shape[1], activation='softmax'))\n",
    "    \n",
    "    model.compile(optimizer=Adam(learning_rate=hp.Float('learning_rate', min_value=1e-4, max_value=1e-2, sampling='log')), \n",
    "                  loss='categorical_crossentropy', \n",
    "                  metrics=['accuracy'])\n",
    "    return model\n",
    "\n"
   ]
  },
  {
   "cell_type": "markdown",
   "id": "1f2faed5-b694-4bd8-bb41-2bf7c3e8e059",
   "metadata": {},
   "source": [
    "## 8.1 Initialize Keras Tuner"
   ]
  },
  {
   "cell_type": "code",
   "execution_count": 13,
   "id": "6b460d6f-6c17-4ec9-87e8-35e66fce68b8",
   "metadata": {},
   "outputs": [],
   "source": [
    "\n",
    "# Initialize the tuner\n",
    "tuner = kt.Hyperband(\n",
    "    build_model,\n",
    "    objective='val_accuracy',\n",
    "    max_epochs=10,\n",
    "    factor=3,\n",
    "    directory='my_dir',\n",
    "    project_name='intro_to_kt'\n",
    ")"
   ]
  },
  {
   "cell_type": "markdown",
   "id": "c0fd6ea8-2de0-4ace-b337-b5d27a46e1e1",
   "metadata": {},
   "source": [
    "## 9.1 Define Early Stopping Callback"
   ]
  },
  {
   "cell_type": "code",
   "execution_count": 14,
   "id": "66afec45-2bb8-4caf-a210-8d83f5165098",
   "metadata": {},
   "outputs": [],
   "source": [
    "\n",
    "# Early stopping callback\n",
    "stop_early = tf.keras.callbacks.EarlyStopping(monitor='val_loss', patience=3)"
   ]
  },
  {
   "cell_type": "markdown",
   "id": "67368c73-e976-4ac2-a945-80a9758fd275",
   "metadata": {},
   "source": [
    "## 9.2 Perform the Hyperparameter Search"
   ]
  },
  {
   "cell_type": "code",
   "execution_count": 15,
   "id": "d25a06ce-10c4-456e-81e2-31c906840aef",
   "metadata": {},
   "outputs": [
    {
     "name": "stdout",
     "output_type": "stream",
     "text": [
      "Trial 30 Complete [00h 00m 28s]\n",
      "val_accuracy: 0.8081250190734863\n",
      "\n",
      "Best val_accuracy So Far: 0.8687499761581421\n",
      "Total elapsed time: 00h 18m 19s\n"
     ]
    }
   ],
   "source": [
    "tuner.search(X_train, y_train_categorical, epochs=10, validation_split=0.2, callbacks=[stop_early])\n",
    "\n"
   ]
  },
  {
   "cell_type": "markdown",
   "id": "640d26b7-b838-4e9b-ae47-a283cfb4d519",
   "metadata": {},
   "source": [
    "## 10.1 Retrieve and Print the Best Hyperparameters"
   ]
  },
  {
   "cell_type": "code",
   "execution_count": 61,
   "id": "242e837b-e4a8-4cc6-bebb-1c1d053e4912",
   "metadata": {},
   "outputs": [
    {
     "name": "stdout",
     "output_type": "stream",
     "text": [
      "Best LSTM units: 96\n",
      "Best Bidirectional: True\n",
      "Best Learning Rate: 0.0071058258296323095\n"
     ]
    }
   ],
   "source": [
    "best_hps = tuner.get_best_hyperparameters(num_trials=1)[0]\n",
    "print(f\"Best LSTM units: {best_hps.get('lstm_units')}\")\n",
    "print(f\"Best Bidirectional: {best_hps.get('use_bidirectional')}\")\n",
    "print(f\"Best Learning Rate: {best_hps.get('learning_rate')}\")\n"
   ]
  },
  {
   "cell_type": "markdown",
   "id": "43b9c013-3e6c-4e51-853d-ffc6332dddb0",
   "metadata": {},
   "source": [
    "## 10.2 Build the Model with the Best Hyperparameters"
   ]
  },
  {
   "cell_type": "code",
   "execution_count": 62,
   "id": "75ea78e3-0795-4abd-8b98-73f4a8994e58",
   "metadata": {},
   "outputs": [],
   "source": [
    "best_model = tuner.hypermodel.build(best_hps)\n"
   ]
  },
  {
   "cell_type": "markdown",
   "id": "c46ab389-8f2e-486f-869e-c73b0fac1970",
   "metadata": {},
   "source": [
    "## 11.1 Train the Best Model"
   ]
  },
  {
   "cell_type": "code",
   "execution_count": 63,
   "id": "6fc4f2a0-5e35-47c6-8349-110bdabda7d8",
   "metadata": {},
   "outputs": [
    {
     "name": "stdout",
     "output_type": "stream",
     "text": [
      "Epoch 1/10\n",
      "200/200 [==============================] - 13s 27ms/step - loss: 0.5288 - accuracy: 0.7703 - val_loss: 0.4461 - val_accuracy: 0.8000\n",
      "Epoch 2/10\n",
      "200/200 [==============================] - 2s 12ms/step - loss: 0.4400 - accuracy: 0.8103 - val_loss: 0.5200 - val_accuracy: 0.8025\n",
      "Epoch 3/10\n",
      "200/200 [==============================] - 4s 21ms/step - loss: 0.4391 - accuracy: 0.8091 - val_loss: 0.3810 - val_accuracy: 0.8431\n",
      "Epoch 4/10\n",
      "200/200 [==============================] - 4s 18ms/step - loss: 0.4013 - accuracy: 0.8313 - val_loss: 0.3409 - val_accuracy: 0.8569\n",
      "Epoch 5/10\n",
      "200/200 [==============================] - 3s 16ms/step - loss: 0.3848 - accuracy: 0.8384 - val_loss: 0.3348 - val_accuracy: 0.8662\n",
      "Epoch 6/10\n",
      "200/200 [==============================] - 4s 21ms/step - loss: 0.3809 - accuracy: 0.8378 - val_loss: 0.3350 - val_accuracy: 0.8700\n",
      "Epoch 7/10\n",
      "200/200 [==============================] - 3s 16ms/step - loss: 0.3766 - accuracy: 0.8414 - val_loss: 0.3402 - val_accuracy: 0.8719\n",
      "Epoch 8/10\n",
      "200/200 [==============================] - 4s 18ms/step - loss: 0.3737 - accuracy: 0.8480 - val_loss: 0.3380 - val_accuracy: 0.8712\n"
     ]
    }
   ],
   "source": [
    "\n",
    "# Train the best model\n",
    "history = best_model.fit(X_train, y_train_categorical, \n",
    "                         epochs=10, \n",
    "                         batch_size=32, \n",
    "                         validation_split=0.2, \n",
    "                         callbacks=[tf.keras.callbacks.EarlyStopping(monitor='val_loss', patience=3, restore_best_weights=True)])"
   ]
  },
  {
   "cell_type": "markdown",
   "id": "fed27fb9-2e0c-4dfc-bb4f-fc0f3827f51f",
   "metadata": {},
   "source": [
    "## 12.1 Define the Evaluation Function"
   ]
  },
  {
   "cell_type": "code",
   "execution_count": 68,
   "id": "5f92db07-bc46-420f-aa69-500c5c6cca30",
   "metadata": {},
   "outputs": [],
   "source": [
    "# def evaluate_model(model, X_test, y_test_categorical):\n",
    "#     y_pred = model.predict(X_test)\n",
    "#     y_pred_classes = np.argmax(y_pred, axis=1)\n",
    "#     y_true_classes = np.argmax(y_test_categorical, axis=1)\n",
    "    \n",
    "#     print(\"Accuracy Score:\", accuracy_score(y_true_classes, y_pred_classes))\n",
    "#     print(\"Precision Score:\", precision_score(y_true_classes, y_pred_classes, average='macro'))\n",
    "#     print(\"Recall Score:\", recall_score(y_true_classes, y_pred_classes, average='macro'))\n",
    "#     print(\"F1 Score:\", f1_score(y_true_classes, y_pred_classes, average='macro'))\n",
    "#     print(\"ROC AUC Score:\", roc_auc_score(y_test_categorical, y_pred, multi_class='ovr'))\n",
    "\n",
    "def evaluate_model(model, X_test, y_test_categorical):\n",
    "    y_pred = model.predict(X_test)\n",
    "    y_pred_classes = np.argmax(y_pred, axis=1)\n",
    "    y_true_classes = np.argmax(y_test_categorical, axis=1)\n",
    "    \n",
    "    print(\"Accuracy Score:\", accuracy_score(y_true_classes, y_pred_classes))\n",
    "    print(\"Precision Score:\", precision_score(y_true_classes, y_pred_classes, average='weighted'))\n",
    "    print(\"Recall Score:\", recall_score(y_true_classes, y_pred_classes, average='weighted'))\n",
    "    print(\"F1 Score:\", f1_score(y_true_classes, y_pred_classes, average='weighted'))\n",
    "    print(\"ROC AUC Score:\", roc_auc_score(y_test_categorical, y_pred, multi_class='ovr'))\n",
    "\n"
   ]
  },
  {
   "cell_type": "markdown",
   "id": "4785475e-df26-4603-a8b5-e43ae2b3e7e8",
   "metadata": {},
   "source": [
    "## 13.1 Evaluate the Model"
   ]
  },
  {
   "cell_type": "code",
   "execution_count": 69,
   "id": "b8afe055-1e27-42a0-a698-aff7675f0099",
   "metadata": {},
   "outputs": [
    {
     "name": "stdout",
     "output_type": "stream",
     "text": [
      "63/63 [==============================] - 0s 6ms/step\n",
      "Accuracy Score: 0.8575\n",
      "Precision Score: 0.8503672304258241\n",
      "Recall Score: 0.8575\n",
      "F1 Score: 0.8386338220989301\n",
      "ROC AUC Score: 0.8458890323297105\n"
     ]
    }
   ],
   "source": [
    "evaluate_model(best_model, X_test, y_test_categorical)\n"
   ]
  },
  {
   "cell_type": "code",
   "execution_count": null,
   "id": "a37d5039-bb1d-492f-9066-1bd024fe0b00",
   "metadata": {},
   "outputs": [],
   "source": []
  },
  {
   "cell_type": "code",
   "execution_count": null,
   "id": "94887f7b-82ba-423a-bf92-9032f3a76d37",
   "metadata": {},
   "outputs": [],
   "source": []
  },
  {
   "cell_type": "code",
   "execution_count": null,
   "id": "bef5e6ed-81d2-4ab5-a1c1-4329f8e54a03",
   "metadata": {},
   "outputs": [],
   "source": []
  },
  {
   "cell_type": "code",
   "execution_count": null,
   "id": "36cc420b-f754-4606-81d4-4ce58be71b93",
   "metadata": {},
   "outputs": [],
   "source": []
  }
 ],
 "metadata": {
  "kernelspec": {
   "display_name": "Python 3 (ipykernel)",
   "language": "python",
   "name": "python3"
  },
  "language_info": {
   "codemirror_mode": {
    "name": "ipython",
    "version": 3
   },
   "file_extension": ".py",
   "mimetype": "text/x-python",
   "name": "python",
   "nbconvert_exporter": "python",
   "pygments_lexer": "ipython3",
   "version": "3.8.19"
  }
 },
 "nbformat": 4,
 "nbformat_minor": 5
}
